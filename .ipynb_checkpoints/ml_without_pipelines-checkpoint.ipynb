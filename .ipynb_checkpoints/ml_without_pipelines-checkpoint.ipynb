{
 "cells": [
  {
   "cell_type": "code",
   "execution_count": null,
   "id": "eab278e5-9eea-4e93-bbcc-c762e1b8e47b",
   "metadata": {},
   "outputs": [],
   "source": [
    "import numpy as np # library for numerical computing in python\n",
    "import pandas as pd # A library for data manipulation and analysis (data-frames)\n",
    "\n",
    "\n",
    "# Scikit-learn : opensource ML-library for python that simplifies the implementation of various ML and\n",
    "# Data Modeling Task. Designed for both supervised and unsupervised learning, \n",
    "# it provides tools for classification, regression, clustering, and more.\n",
    "\n",
    "from sklearn.model_selection import train_test_split # split a dataset into training and testing subeset\n",
    "from sklearn.impute import SimpleImputer # Handles missing data  in dataset\n",
    "from sklearn.preprocessing import OneHotEncoder # convert categorical data into binary(format suitable for ml)\n",
    "from sklearn.preprocessing import MinMaxScaler # scales features to a specific range, typically between 0 & 1\n",
    "from sklearn.tree import DecisionTreeClassifier # implements decision tree algorithm for classification task"
   ]
  },
  {
   "cell_type": "code",
   "execution_count": null,
   "id": "631a8a5f-c5fb-4b83-9164-72f234bf62d2",
   "metadata": {},
   "outputs": [],
   "source": [
    "df = pd.read_csv(\"train.csv\")"
   ]
  },
  {
   "cell_type": "code",
   "execution_count": null,
   "id": "d14e8af4-bd77-4059-8dff-037cdea56bc2",
   "metadata": {},
   "outputs": [],
   "source": [
    "df.head()"
   ]
  },
  {
   "cell_type": "code",
   "execution_count": null,
   "id": "925fe140-49b1-4eab-8d81-b613259e4df9",
   "metadata": {},
   "outputs": [],
   "source": [
    "df.drop(columns= [\"PassengerId\",\"Name\", \"Ticket\", \"Cabin\"], inplace= True)\n",
    "# drop the columns"
   ]
  },
  {
   "cell_type": "code",
   "execution_count": null,
   "id": "1925dde6-3b11-4ac0-9c03-f78385f72497",
   "metadata": {},
   "outputs": [],
   "source": [
    "df.head()\n",
    "# first 5 rows"
   ]
  },
  {
   "cell_type": "code",
   "execution_count": null,
   "id": "30a0d07c-8945-479a-ac60-969ddfb4bc7d",
   "metadata": {},
   "outputs": [],
   "source": [
    "#step 1 -> train/test/split\n",
    "X_train, X_test, Y_train, Y_test = train_test_split(df.drop(columns = ['Survived']),\n",
    "                                                   df['Survived'], test_size = 0.2,\n",
    "                                                    random_state = 42\n",
    "                                                   )\n",
    "\n",
    "# X = includes all columns of dF except Survived column(Y - target-variable)\n",
    "# test-size = 20% of the data is reserved for the testing remaining 80% will be used for trainin model\n",
    "# random-state = It keeps the training and testing datasets the same across multiple runs."
   ]
  },
  {
   "cell_type": "code",
   "execution_count": null,
   "id": "a5389805-362e-4174-96b6-8837ea03deb0",
   "metadata": {},
   "outputs": [],
   "source": [
    "X_train.head(2)"
   ]
  },
  {
   "cell_type": "code",
   "execution_count": null,
   "id": "bb2918e9-f201-4ebb-a660-235569f2f36a",
   "metadata": {},
   "outputs": [],
   "source": [
    "Y_train.head()"
   ]
  },
  {
   "cell_type": "code",
   "execution_count": null,
   "id": "cbfba98d-99be-42d0-b585-139ce6a85fdd",
   "metadata": {},
   "outputs": [],
   "source": [
    "df.isnull().sum()"
   ]
  },
  {
   "cell_type": "code",
   "execution_count": null,
   "id": "0e245bb7-00f2-4c1b-af15-ad32a3d7ea77",
   "metadata": {},
   "outputs": [],
   "source": [
    "#applying imputer (filling missing values)\n",
    "si_age = SimpleImputer()\n",
    "si_fare = SimpleImputer(strategy='mean')\n",
    "\n",
    "X_train_age = si_age.fit_transform(X_train[['Age']])\n",
    "X_train_fare = si_age.fit_transform(X_train[['Fare']])\n",
    "\n",
    "X_test_age = si_age.fit_transform(X_train[['Age']])\n",
    "X_test_fare = si_age.fit_transform(X_train[['Fare']])\n",
    "\n"
   ]
  },
  {
   "cell_type": "code",
   "execution_count": null,
   "id": "4031a795-6b6b-4f06-8267-9fba479d4a6f",
   "metadata": {},
   "outputs": [],
   "source": [
    "X_train_fare"
   ]
  },
  {
   "cell_type": "code",
   "execution_count": null,
   "id": "18d5e083-3d41-4539-b0f1-f876342fe59e",
   "metadata": {},
   "outputs": [],
   "source": [
    "# Initialize OneHotEncoder \n",
    "ohe_sex = OneHotEncoder(sparse_output=False, handle_unknown=\"ignore\")\n",
    "ohe_embarked = OneHotEncoder(sparse_output=False, handle_unknown=\"ignore\")\n",
    "\n",
    "X_train_sex = ohe_sex.fit_transform(X_train[[\"Sex\"]])\n",
    "X_train_embarked = ohe_embarked.fit_transform(X_train[[\"Embarked\"]]) \n",
    "\n",
    "X_test_sex = ohe_sex.fit_transform(X_test[[\"Sex\"]])\n",
    "X_test_embarked = ohe_embarked.fit_transform(X_test[[\"Embarked\"]]) \n"
   ]
  },
  {
   "cell_type": "code",
   "execution_count": null,
   "id": "7315089c-c414-431c-a23a-21869fef4d12",
   "metadata": {},
   "outputs": [],
   "source": [
    "X_train_embarked"
   ]
  },
  {
   "cell_type": "code",
   "execution_count": null,
   "id": "ff78268c-978c-4e98-8982-98bb0e7e7406",
   "metadata": {},
   "outputs": [],
   "source": []
  }
 ],
 "metadata": {
  "kernelspec": {
   "display_name": "Python 3 (ipykernel)",
   "language": "python",
   "name": "python3"
  },
  "language_info": {
   "codemirror_mode": {
    "name": "ipython",
    "version": 3
   },
   "file_extension": ".py",
   "mimetype": "text/x-python",
   "name": "python",
   "nbconvert_exporter": "python",
   "pygments_lexer": "ipython3",
   "version": "3.12.4"
  }
 },
 "nbformat": 4,
 "nbformat_minor": 5
}
