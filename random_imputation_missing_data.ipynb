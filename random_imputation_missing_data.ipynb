{
 "cells": [
  {
   "cell_type": "code",
   "execution_count": 22,
   "id": "4aa3e465-f6c8-43b8-a9d2-9c77ed2bc653",
   "metadata": {},
   "outputs": [],
   "source": [
    "import pandas as pd\n",
    "import numpy as np\n",
    "\n",
    "from sklearn.model_selection import train_test_split\n",
    "\n",
    "import matplotlib.pyplot as plt\n",
    "import seaborn as sns"
   ]
  },
  {
   "cell_type": "code",
   "execution_count": 23,
   "id": "22e1284e-3754-4d0c-b315-a0a3328818a1",
   "metadata": {},
   "outputs": [],
   "source": [
    "df = pd.read_csv(\"train.csv\", usecols = [\"Age\", \"Fare\", \"Survived\"] )"
   ]
  },
  {
   "cell_type": "code",
   "execution_count": 24,
   "id": "de85f862-01f4-412b-81f5-213bea211c38",
   "metadata": {},
   "outputs": [
    {
     "data": {
      "text/html": [
       "<div>\n",
       "<style scoped>\n",
       "    .dataframe tbody tr th:only-of-type {\n",
       "        vertical-align: middle;\n",
       "    }\n",
       "\n",
       "    .dataframe tbody tr th {\n",
       "        vertical-align: top;\n",
       "    }\n",
       "\n",
       "    .dataframe thead th {\n",
       "        text-align: right;\n",
       "    }\n",
       "</style>\n",
       "<table border=\"1\" class=\"dataframe\">\n",
       "  <thead>\n",
       "    <tr style=\"text-align: right;\">\n",
       "      <th></th>\n",
       "      <th>Survived</th>\n",
       "      <th>Age</th>\n",
       "      <th>Fare</th>\n",
       "    </tr>\n",
       "  </thead>\n",
       "  <tbody>\n",
       "    <tr>\n",
       "      <th>0</th>\n",
       "      <td>0</td>\n",
       "      <td>34.5</td>\n",
       "      <td>7.8292</td>\n",
       "    </tr>\n",
       "    <tr>\n",
       "      <th>1</th>\n",
       "      <td>1</td>\n",
       "      <td>47.0</td>\n",
       "      <td>7.0000</td>\n",
       "    </tr>\n",
       "    <tr>\n",
       "      <th>2</th>\n",
       "      <td>0</td>\n",
       "      <td>62.0</td>\n",
       "      <td>9.6875</td>\n",
       "    </tr>\n",
       "    <tr>\n",
       "      <th>3</th>\n",
       "      <td>0</td>\n",
       "      <td>27.0</td>\n",
       "      <td>8.6625</td>\n",
       "    </tr>\n",
       "    <tr>\n",
       "      <th>4</th>\n",
       "      <td>1</td>\n",
       "      <td>22.0</td>\n",
       "      <td>12.2875</td>\n",
       "    </tr>\n",
       "  </tbody>\n",
       "</table>\n",
       "</div>"
      ],
      "text/plain": [
       "   Survived   Age     Fare\n",
       "0         0  34.5   7.8292\n",
       "1         1  47.0   7.0000\n",
       "2         0  62.0   9.6875\n",
       "3         0  27.0   8.6625\n",
       "4         1  22.0  12.2875"
      ]
     },
     "execution_count": 24,
     "metadata": {},
     "output_type": "execute_result"
    }
   ],
   "source": [
    "df.head()"
   ]
  },
  {
   "cell_type": "code",
   "execution_count": 25,
   "id": "9dbd2811-7493-4d2c-9a06-11de52ac5612",
   "metadata": {},
   "outputs": [
    {
     "data": {
      "text/plain": [
       "Survived     0.000000\n",
       "Age         20.574163\n",
       "Fare         0.239234\n",
       "dtype: float64"
      ]
     },
     "execution_count": 25,
     "metadata": {},
     "output_type": "execute_result"
    }
   ],
   "source": [
    "df.isnull().mean()*100"
   ]
  },
  {
   "cell_type": "code",
   "execution_count": 26,
   "id": "a6ddde8a-eb2f-4501-a599-5c11eab1874d",
   "metadata": {},
   "outputs": [],
   "source": [
    "X = df.drop(columns=[\"Survived\"])\n",
    "Y = df[\"Survived\"]"
   ]
  },
  {
   "cell_type": "code",
   "execution_count": 27,
   "id": "c568ca26-e9cf-4ac1-89e7-1efa33c53c4a",
   "metadata": {},
   "outputs": [],
   "source": [
    "X_train,X_test,Y_train, Y_test = train_test_split(X,Y, test_size = 0.2, random_state = 2)"
   ]
  },
  {
   "cell_type": "code",
   "execution_count": 28,
   "id": "fbbeab33-4d6f-43e0-8c84-7015a95b7c3a",
   "metadata": {},
   "outputs": [],
   "source": [
    "X_train[\"Age_imputed\"] = X_train[\"Age\"]\n",
    "X_test[\"Age_imputed\"] = X_test[\"Age\"]"
   ]
  },
  {
   "cell_type": "code",
   "execution_count": 29,
   "id": "70afbefb-bfe3-493a-b6f7-dbd9838743fe",
   "metadata": {},
   "outputs": [
    {
     "data": {
      "text/html": [
       "<div>\n",
       "<style scoped>\n",
       "    .dataframe tbody tr th:only-of-type {\n",
       "        vertical-align: middle;\n",
       "    }\n",
       "\n",
       "    .dataframe tbody tr th {\n",
       "        vertical-align: top;\n",
       "    }\n",
       "\n",
       "    .dataframe thead th {\n",
       "        text-align: right;\n",
       "    }\n",
       "</style>\n",
       "<table border=\"1\" class=\"dataframe\">\n",
       "  <thead>\n",
       "    <tr style=\"text-align: right;\">\n",
       "      <th></th>\n",
       "      <th>Age</th>\n",
       "      <th>Fare</th>\n",
       "      <th>Age_imputed</th>\n",
       "    </tr>\n",
       "  </thead>\n",
       "  <tbody>\n",
       "    <tr>\n",
       "      <th>321</th>\n",
       "      <td>25.0</td>\n",
       "      <td>7.2292</td>\n",
       "      <td>25.0</td>\n",
       "    </tr>\n",
       "    <tr>\n",
       "      <th>324</th>\n",
       "      <td>39.0</td>\n",
       "      <td>211.3375</td>\n",
       "      <td>39.0</td>\n",
       "    </tr>\n",
       "    <tr>\n",
       "      <th>388</th>\n",
       "      <td>21.0</td>\n",
       "      <td>7.7500</td>\n",
       "      <td>21.0</td>\n",
       "    </tr>\n",
       "    <tr>\n",
       "      <th>56</th>\n",
       "      <td>35.0</td>\n",
       "      <td>7.8958</td>\n",
       "      <td>35.0</td>\n",
       "    </tr>\n",
       "    <tr>\n",
       "      <th>153</th>\n",
       "      <td>36.0</td>\n",
       "      <td>12.1833</td>\n",
       "      <td>36.0</td>\n",
       "    </tr>\n",
       "  </tbody>\n",
       "</table>\n",
       "</div>"
      ],
      "text/plain": [
       "      Age      Fare  Age_imputed\n",
       "321  25.0    7.2292         25.0\n",
       "324  39.0  211.3375         39.0\n",
       "388  21.0    7.7500         21.0\n",
       "56   35.0    7.8958         35.0\n",
       "153  36.0   12.1833         36.0"
      ]
     },
     "execution_count": 29,
     "metadata": {},
     "output_type": "execute_result"
    }
   ],
   "source": [
    "X_test.head()"
   ]
  },
  {
   "cell_type": "code",
   "execution_count": 30,
   "id": "75ac304e-01a3-4b4b-8221-28ec15ed3529",
   "metadata": {},
   "outputs": [
    {
     "name": "stderr",
     "output_type": "stream",
     "text": [
      "C:\\Users\\Ketan\\AppData\\Local\\Temp\\ipykernel_23952\\2315437127.py:2: FutureWarning: ChainedAssignmentError: behaviour will change in pandas 3.0!\n",
      "You are setting values through chained assignment. Currently this works in certain cases, but when using Copy-on-Write (which will become the default behaviour in pandas 3.0) this will never work to update the original DataFrame or Series, because the intermediate object on which we are setting values will behave as a copy.\n",
      "A typical example is when you are setting values in a column of a DataFrame, like:\n",
      "\n",
      "df[\"col\"][row_indexer] = value\n",
      "\n",
      "Use `df.loc[row_indexer, \"col\"] = values` instead, to perform the assignment in a single step and ensure this keeps updating the original `df`.\n",
      "\n",
      "See the caveats in the documentation: https://pandas.pydata.org/pandas-docs/stable/user_guide/indexing.html#returning-a-view-versus-a-copy\n",
      "\n",
      "  X_train[\"Age_imputed\"][X_train[\"Age_imputed\"].isnull()] = X_train['Age'].dropna().sample(X_train[\"Age_imputed\"].isnull().sum()).values\n",
      "C:\\Users\\Ketan\\AppData\\Local\\Temp\\ipykernel_23952\\2315437127.py:5: FutureWarning: ChainedAssignmentError: behaviour will change in pandas 3.0!\n",
      "You are setting values through chained assignment. Currently this works in certain cases, but when using Copy-on-Write (which will become the default behaviour in pandas 3.0) this will never work to update the original DataFrame or Series, because the intermediate object on which we are setting values will behave as a copy.\n",
      "A typical example is when you are setting values in a column of a DataFrame, like:\n",
      "\n",
      "df[\"col\"][row_indexer] = value\n",
      "\n",
      "Use `df.loc[row_indexer, \"col\"] = values` instead, to perform the assignment in a single step and ensure this keeps updating the original `df`.\n",
      "\n",
      "See the caveats in the documentation: https://pandas.pydata.org/pandas-docs/stable/user_guide/indexing.html#returning-a-view-versus-a-copy\n",
      "\n",
      "  X_test[\"Age_imputed\"][X_test[\"Age_imputed\"].isnull()] = X_test['Age'].dropna().sample(X_test[\"Age_imputed\"].isnull().sum()).values\n"
     ]
    }
   ],
   "source": [
    "# Impute missing values in X_train\n",
    "X_train[\"Age_imputed\"][X_train[\"Age_imputed\"].isnull()] = X_train['Age'].dropna().sample(X_train[\"Age_imputed\"].isnull().sum()).values\n",
    "\n",
    "# Impute missing values in X_test\n",
    "X_test[\"Age_imputed\"][X_test[\"Age_imputed\"].isnull()] = X_test['Age'].dropna().sample(X_test[\"Age_imputed\"].isnull().sum()).values\n"
   ]
  },
  {
   "cell_type": "code",
   "execution_count": 32,
   "id": "6bd04590-738a-423d-9873-fe18fd9fb3b9",
   "metadata": {},
   "outputs": [
    {
     "data": {
      "text/html": [
       "<div>\n",
       "<style scoped>\n",
       "    .dataframe tbody tr th:only-of-type {\n",
       "        vertical-align: middle;\n",
       "    }\n",
       "\n",
       "    .dataframe tbody tr th {\n",
       "        vertical-align: top;\n",
       "    }\n",
       "\n",
       "    .dataframe thead th {\n",
       "        text-align: right;\n",
       "    }\n",
       "</style>\n",
       "<table border=\"1\" class=\"dataframe\">\n",
       "  <thead>\n",
       "    <tr style=\"text-align: right;\">\n",
       "      <th></th>\n",
       "      <th>Age</th>\n",
       "      <th>Fare</th>\n",
       "      <th>Age_imputed</th>\n",
       "    </tr>\n",
       "  </thead>\n",
       "  <tbody>\n",
       "    <tr>\n",
       "      <th>336</th>\n",
       "      <td>32.0</td>\n",
       "      <td>13.0000</td>\n",
       "      <td>32.0</td>\n",
       "    </tr>\n",
       "    <tr>\n",
       "      <th>31</th>\n",
       "      <td>24.0</td>\n",
       "      <td>31.5000</td>\n",
       "      <td>24.0</td>\n",
       "    </tr>\n",
       "    <tr>\n",
       "      <th>84</th>\n",
       "      <td>NaN</td>\n",
       "      <td>10.7083</td>\n",
       "      <td>30.0</td>\n",
       "    </tr>\n",
       "    <tr>\n",
       "      <th>287</th>\n",
       "      <td>24.0</td>\n",
       "      <td>82.2667</td>\n",
       "      <td>24.0</td>\n",
       "    </tr>\n",
       "    <tr>\n",
       "      <th>317</th>\n",
       "      <td>19.0</td>\n",
       "      <td>10.5000</td>\n",
       "      <td>19.0</td>\n",
       "    </tr>\n",
       "    <tr>\n",
       "      <th>...</th>\n",
       "      <td>...</td>\n",
       "      <td>...</td>\n",
       "      <td>...</td>\n",
       "    </tr>\n",
       "    <tr>\n",
       "      <th>71</th>\n",
       "      <td>21.0</td>\n",
       "      <td>7.8958</td>\n",
       "      <td>21.0</td>\n",
       "    </tr>\n",
       "    <tr>\n",
       "      <th>106</th>\n",
       "      <td>21.0</td>\n",
       "      <td>7.8208</td>\n",
       "      <td>21.0</td>\n",
       "    </tr>\n",
       "    <tr>\n",
       "      <th>270</th>\n",
       "      <td>46.0</td>\n",
       "      <td>75.2417</td>\n",
       "      <td>46.0</td>\n",
       "    </tr>\n",
       "    <tr>\n",
       "      <th>348</th>\n",
       "      <td>24.0</td>\n",
       "      <td>13.5000</td>\n",
       "      <td>24.0</td>\n",
       "    </tr>\n",
       "    <tr>\n",
       "      <th>102</th>\n",
       "      <td>NaN</td>\n",
       "      <td>7.7500</td>\n",
       "      <td>35.0</td>\n",
       "    </tr>\n",
       "  </tbody>\n",
       "</table>\n",
       "<p>334 rows × 3 columns</p>\n",
       "</div>"
      ],
      "text/plain": [
       "      Age     Fare  Age_imputed\n",
       "336  32.0  13.0000         32.0\n",
       "31   24.0  31.5000         24.0\n",
       "84    NaN  10.7083         30.0\n",
       "287  24.0  82.2667         24.0\n",
       "317  19.0  10.5000         19.0\n",
       "..    ...      ...          ...\n",
       "71   21.0   7.8958         21.0\n",
       "106  21.0   7.8208         21.0\n",
       "270  46.0  75.2417         46.0\n",
       "348  24.0  13.5000         24.0\n",
       "102   NaN   7.7500         35.0\n",
       "\n",
       "[334 rows x 3 columns]"
      ]
     },
     "execution_count": 32,
     "metadata": {},
     "output_type": "execute_result"
    }
   ],
   "source": [
    "X_train"
   ]
  },
  {
   "cell_type": "code",
   "execution_count": 41,
   "id": "2b5f2849-5f9f-4d65-83e0-ea55befb0fb1",
   "metadata": {},
   "outputs": [
    {
     "name": "stderr",
     "output_type": "stream",
     "text": [
      "C:\\Users\\Ketan\\AppData\\Local\\Temp\\ipykernel_23952\\2821317055.py:1: UserWarning: \n",
      "\n",
      "`distplot` is a deprecated function and will be removed in seaborn v0.14.0.\n",
      "\n",
      "Please adapt your code to use either `displot` (a figure-level function with\n",
      "similar flexibility) or `kdeplot` (an axes-level function for kernel density plots).\n",
      "\n",
      "For a guide to updating your code to use the new functions, please see\n",
      "https://gist.github.com/mwaskom/de44147ed2974457ad6372750bbe5751\n",
      "\n",
      "  sns.distplot(X_train[\"Age\"], label = \"Original\", hist= False)\n",
      "C:\\Users\\Ketan\\AppData\\Local\\Temp\\ipykernel_23952\\2821317055.py:2: UserWarning: \n",
      "\n",
      "`distplot` is a deprecated function and will be removed in seaborn v0.14.0.\n",
      "\n",
      "Please adapt your code to use either `displot` (a figure-level function with\n",
      "similar flexibility) or `kdeplot` (an axes-level function for kernel density plots).\n",
      "\n",
      "For a guide to updating your code to use the new functions, please see\n",
      "https://gist.github.com/mwaskom/de44147ed2974457ad6372750bbe5751\n",
      "\n",
      "  sns.distplot(X_train[\"Age_imputed\"], label = \"imputed\", hist= False)\n"
     ]
    },
    {
     "data": {
      "image/png": "[encoded data removed]",
      "text/plain": [
       "<Figure size 640x480 with 1 Axes>"
      ]
     },
     "metadata": {},
     "output_type": "display_data"
    }
   ],
   "source": [
    "sns.distplot(X_train[\"Age\"], label = \"Original\", hist= False)\n",
    "sns.distplot(X_train[\"Age_imputed\"], label = \"imputed\", hist= False)\n",
    "plt.legend()\n",
    "plt.show()"
   ]
  },
  {
   "cell_type": "code",
   "execution_count": 42,
   "id": "15716e9a-df82-439d-8ea9-468c14e7c8fa",
   "metadata": {},
   "outputs": [
    {
     "name": "stdout",
     "output_type": "stream",
     "text": [
      "original variable varience:  214.79174558363312\n",
      "Varience after random imputation 208.96468618079157\n"
     ]
    }
   ],
   "source": [
    "print(\"original variable varience: \",X_train[\"Age\"].var())\n",
    "print(\"Varience after random imputation\",X_train[\"Age_imputed\"].var())"
   ]
  },
  {
   "cell_type": "code",
   "execution_count": 44,
   "id": "4bfab0a6-f09a-4211-9c5f-9389e7e5dac5",
   "metadata": {},
   "outputs": [
    {
     "data": {
      "text/html": [
       "<div>\n",
       "<style scoped>\n",
       "    .dataframe tbody tr th:only-of-type {\n",
       "        vertical-align: middle;\n",
       "    }\n",
       "\n",
       "    .dataframe tbody tr th {\n",
       "        vertical-align: top;\n",
       "    }\n",
       "\n",
       "    .dataframe thead th {\n",
       "        text-align: right;\n",
       "    }\n",
       "</style>\n",
       "<table border=\"1\" class=\"dataframe\">\n",
       "  <thead>\n",
       "    <tr style=\"text-align: right;\">\n",
       "      <th></th>\n",
       "      <th>Fare</th>\n",
       "      <th>Age</th>\n",
       "      <th>Age_imputed</th>\n",
       "    </tr>\n",
       "  </thead>\n",
       "  <tbody>\n",
       "    <tr>\n",
       "      <th>Fare</th>\n",
       "      <td>3370.347022</td>\n",
       "      <td>324.009543</td>\n",
       "      <td>253.950920</td>\n",
       "    </tr>\n",
       "    <tr>\n",
       "      <th>Age</th>\n",
       "      <td>324.009543</td>\n",
       "      <td>214.791746</td>\n",
       "      <td>214.791746</td>\n",
       "    </tr>\n",
       "    <tr>\n",
       "      <th>Age_imputed</th>\n",
       "      <td>253.950920</td>\n",
       "      <td>214.791746</td>\n",
       "      <td>208.964686</td>\n",
       "    </tr>\n",
       "  </tbody>\n",
       "</table>\n",
       "</div>"
      ],
      "text/plain": [
       "                    Fare         Age  Age_imputed\n",
       "Fare         3370.347022  324.009543   253.950920\n",
       "Age           324.009543  214.791746   214.791746\n",
       "Age_imputed   253.950920  214.791746   208.964686"
      ]
     },
     "execution_count": 44,
     "metadata": {},
     "output_type": "execute_result"
    }
   ],
   "source": [
    "X_train[[\"Fare\",\"Age\",\"Age_imputed\"]].cov()"
   ]
  },
  {
   "cell_type": "code",
   "execution_count": 47,
   "id": "dcb0b1cd-b6fc-4ec8-a99e-cd2b67224e00",
   "metadata": {},
   "outputs": [
    {
     "data": {
      "text/plain": [
       "<Axes: >"
      ]
     },
     "execution_count": 47,
     "metadata": {},
     "output_type": "execute_result"
    },
    {
     "data": {
      "image/png": "[encoded data removed]",
      "text/plain": [
       "<Figure size 640x480 with 1 Axes>"
      ]
     },
     "metadata": {},
     "output_type": "display_data"
    }
   ],
   "source": [
    "X_train[[\"Age\",\"Age_imputed\"]].boxplot()"
   ]
  },
  {
   "cell_type": "markdown",
   "id": "2e92d275-ffc6-45bb-b6d6-3d54d38bb8ef",
   "metadata": {},
   "source": [
    "Categorical data"
   ]
  },
  {
   "cell_type": "code",
   "execution_count": 67,
   "id": "b7bc347e-0fd8-43d9-b818-480a7e9c8b82",
   "metadata": {},
   "outputs": [],
   "source": [
    "# Specify the path to the CSV file\n",
    "data_path = \"house_price_dataset/train.csv\"\n",
    "columns_to_use = ['GarageQual', 'FireplaceQu', 'SalePrice']\n",
    "\n",
    "# Read the CSV file into a DataFrame\n",
    "data = pd.read_csv(data_path,usecols=columns_to_use)"
   ]
  },
  {
   "cell_type": "code",
   "execution_count": 68,
   "id": "f74d8917-1ae7-4b1e-9232-06fb9d71f9b8",
   "metadata": {},
   "outputs": [
    {
     "name": "stdout",
     "output_type": "stream",
     "text": [
      "  FireplaceQu GarageQual  SalePrice\n",
      "0         NaN         TA     208500\n",
      "1          TA         TA     181500\n",
      "2          TA         TA     223500\n",
      "3          Gd         TA     140000\n",
      "4          TA         TA     250000\n"
     ]
    }
   ],
   "source": [
    "print(data.head())"
   ]
  },
  {
   "cell_type": "code",
   "execution_count": 69,
   "id": "80f434bc-9fd5-4635-95b1-d70b30f77818",
   "metadata": {},
   "outputs": [
    {
     "data": {
      "text/plain": [
       "FireplaceQu    47.260274\n",
       "GarageQual      5.547945\n",
       "SalePrice       0.000000\n",
       "dtype: float64"
      ]
     },
     "execution_count": 69,
     "metadata": {},
     "output_type": "execute_result"
    }
   ],
   "source": [
    "data.isnull().mean()*100"
   ]
  },
  {
   "cell_type": "code",
   "execution_count": 80,
   "id": "70a5a97b-8818-4ed0-9505-80458a86815a",
   "metadata": {},
   "outputs": [],
   "source": [
    "X = data\n",
    "Y = data[\"SalePrice\"]"
   ]
  },
  {
   "cell_type": "code",
   "execution_count": 81,
   "id": "1589c787-0565-4753-94d1-071e9ccae464",
   "metadata": {},
   "outputs": [],
   "source": [
    "X_train,X_test,Y_train, Y_test = train_test_split(X,Y, test_size = 0.2, random_state = 2)"
   ]
  },
  {
   "cell_type": "code",
   "execution_count": 82,
   "id": "5cff32f6-6045-4ff2-b716-e454c3594fb3",
   "metadata": {},
   "outputs": [],
   "source": [
    "X_train[\"GarageQual_imputed\"] = X_train[\"GarageQual\"]\n",
    "X_test[\"GarageQual_imputed\"] = X_test[\"GarageQual\"]\n",
    "\n",
    "X_train[\"FireplaceQu_imputed\"] = X_train[\"FireplaceQu\"]\n",
    "X_test[\"FireplaceQu_imputed\"] = X_test[\"FireplaceQu\"]\n"
   ]
  },
  {
   "cell_type": "code",
   "execution_count": 83,
   "id": "0cc25eb3-a1bc-4e30-862f-ad7918f5bee8",
   "metadata": {},
   "outputs": [
    {
     "name": "stdout",
     "output_type": "stream",
     "text": [
      "['FireplaceQu', 'GarageQual', 'SalePrice', 'GarageQual_imputed', 'FireplaceQu_imputed']\n"
     ]
    }
   ],
   "source": [
    "print(X_train.columns.tolist())\n"
   ]
  },
  {
   "cell_type": "code",
   "execution_count": null,
   "id": "7ced32e8-b6cb-474f-889f-0f1960adf295",
   "metadata": {},
   "outputs": [],
   "source": [
    "# Impute missing values in X_train\n",
    "X_train[\"GarageQual_imputed\"][X_train[\"GarageQual_imputed\"].isnull()] = X_train['GarageQual'].dropna().sample(X_train[\"GarageQual\"].isnull().sum()).values\n",
    "\n",
    "# Impute missing values in X_test\n",
    "X_test[\"GarageQual_imputed\"][X_test[\"GarageQual_imputed\"].isnull()] = X_test['GarageQual'].dropna().sample(X_test[\"GarageQual\"].isnull().sum()).values\n",
    "\n",
    "\n",
    "# Impute missing values in X_train\n",
    "X_train[\"FireplaceQu_imputed\"][X_train[\"FireplaceQu_imputed\"].isnull()] = X_train['FireplaceQu'].dropna().sample(X_train[\"FireplaceQu\"].isnull().sum()).values\n",
    "\n",
    "# Impute missing values in X_test\n",
    "X_test[\"FireplaceQu_imputed\"][X_test[\"FireplaceQu_imputed\"].isnull()] = X_test['FireplaceQu'].dropna().sample(X_test[\"FireplaceQu\"].isnull().sum()).values\n",
    "\n",
    "\n"
   ]
  },
  {
   "cell_type": "code",
   "execution_count": 87,
   "id": "093d02d9-705e-4957-9812-c213bb79bb41",
   "metadata": {},
   "outputs": [],
   "source": [
    "temp = pd.concat(\n",
    "    [\n",
    "        X_train[\"FireplaceQu\"].value_counts() / len(X_train[\"FireplaceQu\"].dropna()),\n",
    "        X_train[\"FireplaceQu_imputed\"].value_counts() / len(X_train)\n",
    "        \n",
    "    ],\n",
    "    axis = 1\n",
    ")\n",
    "temp.columns = [\"Original\", \"imputed\"]\n"
   ]
  },
  {
   "cell_type": "code",
   "execution_count": 88,
   "id": "7e3efdcc-0de9-4496-9980-346e865b6f17",
   "metadata": {},
   "outputs": [
    {
     "data": {
      "text/html": [
       "<div>\n",
       "<style scoped>\n",
       "    .dataframe tbody tr th:only-of-type {\n",
       "        vertical-align: middle;\n",
       "    }\n",
       "\n",
       "    .dataframe tbody tr th {\n",
       "        vertical-align: top;\n",
       "    }\n",
       "\n",
       "    .dataframe thead th {\n",
       "        text-align: right;\n",
       "    }\n",
       "</style>\n",
       "<table border=\"1\" class=\"dataframe\">\n",
       "  <thead>\n",
       "    <tr style=\"text-align: right;\">\n",
       "      <th></th>\n",
       "      <th>Original</th>\n",
       "      <th>imputed</th>\n",
       "    </tr>\n",
       "  </thead>\n",
       "  <tbody>\n",
       "    <tr>\n",
       "      <th>Gd</th>\n",
       "      <td>0.494272</td>\n",
       "      <td>0.494007</td>\n",
       "    </tr>\n",
       "    <tr>\n",
       "      <th>TA</th>\n",
       "      <td>0.412439</td>\n",
       "      <td>0.415240</td>\n",
       "    </tr>\n",
       "    <tr>\n",
       "      <th>Fa</th>\n",
       "      <td>0.040917</td>\n",
       "      <td>0.039384</td>\n",
       "    </tr>\n",
       "    <tr>\n",
       "      <th>Po</th>\n",
       "      <td>0.027823</td>\n",
       "      <td>0.027397</td>\n",
       "    </tr>\n",
       "    <tr>\n",
       "      <th>Ex</th>\n",
       "      <td>0.024550</td>\n",
       "      <td>0.023973</td>\n",
       "    </tr>\n",
       "  </tbody>\n",
       "</table>\n",
       "</div>"
      ],
      "text/plain": [
       "    Original   imputed\n",
       "Gd  0.494272  0.494007\n",
       "TA  0.412439  0.415240\n",
       "Fa  0.040917  0.039384\n",
       "Po  0.027823  0.027397\n",
       "Ex  0.024550  0.023973"
      ]
     },
     "execution_count": 88,
     "metadata": {},
     "output_type": "execute_result"
    }
   ],
   "source": [
    "temp"
   ]
  },
  {
   "cell_type": "code",
   "execution_count": 89,
   "id": "374d694e-c2e1-410a-baa4-45c74e6bc168",
   "metadata": {},
   "outputs": [],
   "source": [
    "temp = pd.concat(\n",
    "    [\n",
    "        X_train[\"GarageQual\"].value_counts() / len(X_train[\"GarageQual\"].dropna()),\n",
    "        X_train[\"GarageQual_imputed\"].value_counts() / len(X_train)\n",
    "        \n",
    "    ],\n",
    "    axis = 1\n",
    ")\n",
    "temp.columns = [\"Original\", \"imputed\"]"
   ]
  },
  {
   "cell_type": "code",
   "execution_count": 90,
   "id": "7b1bd46d-339d-4c44-b8cc-0beb16899e88",
   "metadata": {},
   "outputs": [
    {
     "data": {
      "text/html": [
       "<div>\n",
       "<style scoped>\n",
       "    .dataframe tbody tr th:only-of-type {\n",
       "        vertical-align: middle;\n",
       "    }\n",
       "\n",
       "    .dataframe tbody tr th {\n",
       "        vertical-align: top;\n",
       "    }\n",
       "\n",
       "    .dataframe thead th {\n",
       "        text-align: right;\n",
       "    }\n",
       "</style>\n",
       "<table border=\"1\" class=\"dataframe\">\n",
       "  <thead>\n",
       "    <tr style=\"text-align: right;\">\n",
       "      <th></th>\n",
       "      <th>Original</th>\n",
       "      <th>imputed</th>\n",
       "    </tr>\n",
       "  </thead>\n",
       "  <tbody>\n",
       "    <tr>\n",
       "      <th>TA</th>\n",
       "      <td>0.951043</td>\n",
       "      <td>0.950342</td>\n",
       "    </tr>\n",
       "    <tr>\n",
       "      <th>Fa</th>\n",
       "      <td>0.037171</td>\n",
       "      <td>0.036815</td>\n",
       "    </tr>\n",
       "    <tr>\n",
       "      <th>Gd</th>\n",
       "      <td>0.009973</td>\n",
       "      <td>0.011130</td>\n",
       "    </tr>\n",
       "    <tr>\n",
       "      <th>Po</th>\n",
       "      <td>0.000907</td>\n",
       "      <td>0.000856</td>\n",
       "    </tr>\n",
       "    <tr>\n",
       "      <th>Ex</th>\n",
       "      <td>0.000907</td>\n",
       "      <td>0.000856</td>\n",
       "    </tr>\n",
       "  </tbody>\n",
       "</table>\n",
       "</div>"
      ],
      "text/plain": [
       "    Original   imputed\n",
       "TA  0.951043  0.950342\n",
       "Fa  0.037171  0.036815\n",
       "Gd  0.009973  0.011130\n",
       "Po  0.000907  0.000856\n",
       "Ex  0.000907  0.000856"
      ]
     },
     "execution_count": 90,
     "metadata": {},
     "output_type": "execute_result"
    }
   ],
   "source": [
    "temp"
   ]
  },
  {
   "cell_type": "code",
   "execution_count": null,
   "id": "73f8b75a-2b52-4d6b-94d5-4d13b414a64b",
   "metadata": {},
   "outputs": [],
   "source": []
  }
 ],
 "metadata": {
  "kernelspec": {
   "display_name": "Python 3 (ipykernel)",
   "language": "python",
   "name": "python3"
  },
  "language_info": {
   "codemirror_mode": {
    "name": "ipython",
    "version": 3
   },
   "file_extension": ".py",
   "mimetype": "text/x-python",
   "name": "python",
   "nbconvert_exporter": "python",
   "pygments_lexer": "ipython3",
   "version": "3.12.4"
  }
 },
 "nbformat": 4,
 "nbformat_minor": 5
}
