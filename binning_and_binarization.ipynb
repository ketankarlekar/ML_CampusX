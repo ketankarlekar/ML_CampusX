{
 "cells": [
  {
   "cell_type": "code",
   "execution_count": 30,
   "id": "f263e014-dc24-4874-ad93-e93f7426dcae",
   "metadata": {},
   "outputs": [],
   "source": [
    "import pandas as pd\n",
    "import numpy as np\n"
   ]
  },
  {
   "cell_type": "code",
   "execution_count": 31,
   "id": "bb71a5fb-5f19-43c3-95e7-869344fc0ebc",
   "metadata": {},
   "outputs": [],
   "source": [
    "import matplotlib.pyplot as plt\n",
    "from sklearn.model_selection import train_test_split\n",
    "from sklearn.tree import DecisionTreeClassifier\n",
    "\n",
    "from sklearn.metrics import accuracy_score\n",
    "from sklearn.model_selection import cross_val_score\n",
    "\n",
    "from sklearn.preprocessing import KBinsDiscretizer\n",
    "from sklearn.compose import ColumnTransformer"
   ]
  },
  {
   "cell_type": "code",
   "execution_count": 32,
   "id": "43c6adfd-07a2-4ba0-93c3-7b0de2ea9e51",
   "metadata": {},
   "outputs": [],
   "source": [
    "df = pd.read_csv(\"train.csv\", usecols= [\"Age\",\"Fare\",\"Survived\"])"
   ]
  },
  {
   "cell_type": "code",
   "execution_count": 33,
   "id": "8401168b-f1a6-401b-af24-493632d82851",
   "metadata": {},
   "outputs": [
    {
     "data": {
      "text/html": [
       "<div>\n",
       "<style scoped>\n",
       "    .dataframe tbody tr th:only-of-type {\n",
       "        vertical-align: middle;\n",
       "    }\n",
       "\n",
       "    .dataframe tbody tr th {\n",
       "        vertical-align: top;\n",
       "    }\n",
       "\n",
       "    .dataframe thead th {\n",
       "        text-align: right;\n",
       "    }\n",
       "</style>\n",
       "<table border=\"1\" class=\"dataframe\">\n",
       "  <thead>\n",
       "    <tr style=\"text-align: right;\">\n",
       "      <th></th>\n",
       "      <th>Survived</th>\n",
       "      <th>Age</th>\n",
       "      <th>Fare</th>\n",
       "    </tr>\n",
       "  </thead>\n",
       "  <tbody>\n",
       "    <tr>\n",
       "      <th>0</th>\n",
       "      <td>0</td>\n",
       "      <td>34.5</td>\n",
       "      <td>7.8292</td>\n",
       "    </tr>\n",
       "    <tr>\n",
       "      <th>1</th>\n",
       "      <td>1</td>\n",
       "      <td>47.0</td>\n",
       "      <td>7.0000</td>\n",
       "    </tr>\n",
       "    <tr>\n",
       "      <th>2</th>\n",
       "      <td>0</td>\n",
       "      <td>62.0</td>\n",
       "      <td>9.6875</td>\n",
       "    </tr>\n",
       "    <tr>\n",
       "      <th>3</th>\n",
       "      <td>0</td>\n",
       "      <td>27.0</td>\n",
       "      <td>8.6625</td>\n",
       "    </tr>\n",
       "    <tr>\n",
       "      <th>4</th>\n",
       "      <td>1</td>\n",
       "      <td>22.0</td>\n",
       "      <td>12.2875</td>\n",
       "    </tr>\n",
       "  </tbody>\n",
       "</table>\n",
       "</div>"
      ],
      "text/plain": [
       "   Survived   Age     Fare\n",
       "0         0  34.5   7.8292\n",
       "1         1  47.0   7.0000\n",
       "2         0  62.0   9.6875\n",
       "3         0  27.0   8.6625\n",
       "4         1  22.0  12.2875"
      ]
     },
     "execution_count": 33,
     "metadata": {},
     "output_type": "execute_result"
    }
   ],
   "source": [
    "df.head()"
   ]
  },
  {
   "cell_type": "code",
   "execution_count": 34,
   "id": "cebf1940-efcf-4958-91c6-e2c89baa2a58",
   "metadata": {},
   "outputs": [],
   "source": [
    "df.dropna(inplace = True)"
   ]
  },
  {
   "cell_type": "code",
   "execution_count": 35,
   "id": "f95eb1fa-cb0c-4044-9620-be950dddc6ec",
   "metadata": {},
   "outputs": [
    {
     "data": {
      "text/plain": [
       "(331, 3)"
      ]
     },
     "execution_count": 35,
     "metadata": {},
     "output_type": "execute_result"
    }
   ],
   "source": [
    "df.shape"
   ]
  },
  {
   "cell_type": "code",
   "execution_count": 36,
   "id": "373343bf-c1d8-460a-8cd2-36e4afcb29d8",
   "metadata": {},
   "outputs": [],
   "source": [
    "X = df.iloc[:,1:]\n",
    "Y = df.iloc[:,0]"
   ]
  },
  {
   "cell_type": "code",
   "execution_count": 37,
   "id": "2449ef94-07af-44f4-87bb-28e5396fd3bd",
   "metadata": {},
   "outputs": [],
   "source": [
    "X_train,X_test,Y_train,Y_test = train_test_split(X,Y, test_size=0.2,random_state=42)"
   ]
  },
  {
   "cell_type": "code",
   "execution_count": 38,
   "id": "52b7cef3-ba2b-40f7-b60f-a3059e4d701a",
   "metadata": {},
   "outputs": [
    {
     "data": {
      "text/html": [
       "<div>\n",
       "<style scoped>\n",
       "    .dataframe tbody tr th:only-of-type {\n",
       "        vertical-align: middle;\n",
       "    }\n",
       "\n",
       "    .dataframe tbody tr th {\n",
       "        vertical-align: top;\n",
       "    }\n",
       "\n",
       "    .dataframe thead th {\n",
       "        text-align: right;\n",
       "    }\n",
       "</style>\n",
       "<table border=\"1\" class=\"dataframe\">\n",
       "  <thead>\n",
       "    <tr style=\"text-align: right;\">\n",
       "      <th></th>\n",
       "      <th>Age</th>\n",
       "      <th>Fare</th>\n",
       "    </tr>\n",
       "  </thead>\n",
       "  <tbody>\n",
       "    <tr>\n",
       "      <th>281</th>\n",
       "      <td>0.75</td>\n",
       "      <td>13.775</td>\n",
       "    </tr>\n",
       "    <tr>\n",
       "      <th>96</th>\n",
       "      <td>76.00</td>\n",
       "      <td>78.850</td>\n",
       "    </tr>\n",
       "  </tbody>\n",
       "</table>\n",
       "</div>"
      ],
      "text/plain": [
       "       Age    Fare\n",
       "281   0.75  13.775\n",
       "96   76.00  78.850"
      ]
     },
     "execution_count": 38,
     "metadata": {},
     "output_type": "execute_result"
    }
   ],
   "source": [
    "X_train.head(2)"
   ]
  },
  {
   "cell_type": "code",
   "execution_count": 39,
   "id": "f2c84ccc-beff-4f6b-8f5b-ef95a942dbee",
   "metadata": {},
   "outputs": [],
   "source": [
    "clf = DecisionTreeClassifier()"
   ]
  },
  {
   "cell_type": "code",
   "execution_count": 40,
   "id": "d41c2fac-0ec6-46fd-8412-8a68cce9e830",
   "metadata": {},
   "outputs": [],
   "source": [
    "clf.fit(X_train,Y_train)\n",
    "Y_pred = clf.predict(X_test)"
   ]
  },
  {
   "cell_type": "code",
   "execution_count": 41,
   "id": "e2f1dfe5-e7c7-40c8-a994-6c8a9930130d",
   "metadata": {},
   "outputs": [
    {
     "name": "stdout",
     "output_type": "stream",
     "text": [
      "0.582089552238806\n"
     ]
    }
   ],
   "source": [
    "accuracy = accuracy_score(Y_test, Y_pred)\n",
    "\n",
    "print(accuracy)"
   ]
  },
  {
   "cell_type": "code",
   "execution_count": 43,
   "id": "945f421c-06f4-484b-98ae-381f19c8da6f",
   "metadata": {},
   "outputs": [
    {
     "data": {
      "text/plain": [
       "0.5680035650623886"
      ]
     },
     "execution_count": 43,
     "metadata": {},
     "output_type": "execute_result"
    }
   ],
   "source": [
    "np.mean(cross_val_score(DecisionTreeClassifier(),X,Y, cv=10,scoring = \"accuracy\"))"
   ]
  },
  {
   "cell_type": "code",
   "execution_count": 63,
   "id": "bebfc327-4d29-4b53-b585-964bab0390ea",
   "metadata": {},
   "outputs": [],
   "source": [
    "kbin_age = KBinsDiscretizer(n_bins = 15, encode = \"ordinal\", strategy = \"quantile\")\n",
    "kbin_fare = KBinsDiscretizer(n_bins = 15, encode = \"ordinal\", strategy = \"quantile\")"
   ]
  },
  {
   "cell_type": "code",
   "execution_count": 64,
   "id": "3098da19-04c9-4495-b4b4-521c2a37a509",
   "metadata": {},
   "outputs": [],
   "source": [
    "trf = ColumnTransformer([\n",
    "    (\"first\", kbin_age,[0]),\n",
    "    (\"second\", kbin_fare,[1]),\n",
    "])"
   ]
  },
  {
   "cell_type": "code",
   "execution_count": 65,
   "id": "b0b48a24-7ccd-4fe2-a5e4-7075085ea1fc",
   "metadata": {},
   "outputs": [],
   "source": [
    "X_train_trf = trf.fit_transform(X_train)\n",
    "X_test_trf = trf.fit_transform(X_test)"
   ]
  },
  {
   "cell_type": "code",
   "execution_count": 66,
   "id": "9a183dca-f72c-48b6-8909-d3a3cb5e4654",
   "metadata": {},
   "outputs": [
    {
     "data": {
      "text/plain": [
       "array([15])"
      ]
     },
     "execution_count": 66,
     "metadata": {},
     "output_type": "execute_result"
    }
   ],
   "source": [
    "trf.named_transformers_[\"second\"].n_bins_"
   ]
  },
  {
   "cell_type": "code",
   "execution_count": 67,
   "id": "4e2b07ae-a616-4640-9396-f7ea2ea11f5b",
   "metadata": {},
   "outputs": [
    {
     "data": {
      "text/plain": [
       "array([array([  6.4958 ,   7.42832,   7.775  ,   7.81248,   8.05   ,   9.225  ,\n",
       "               10.5    ,  13.62   ,  20.22   ,  22.23   ,  27.75   ,  31.4325 ,\n",
       "               50.39664,  61.     , 128.33   , 263.     ])                     ],\n",
       "      dtype=object)"
      ]
     },
     "execution_count": 67,
     "metadata": {},
     "output_type": "execute_result"
    }
   ],
   "source": [
    "trf.named_transformers_[\"second\"].bin_edges_"
   ]
  },
  {
   "cell_type": "code",
   "execution_count": 68,
   "id": "c0068176-99d5-46c3-a58c-bca82b9bd617",
   "metadata": {},
   "outputs": [],
   "source": [
    "output = pd.DataFrame({\n",
    "    \"age\": X_train[\"Age\"],\n",
    "    \"age_trf\": X_train_trf[:, 0],\n",
    "\n",
    "    \"fare\": X_train[\"Fare\"],\n",
    "    \"fare_trf\": X_train_trf[:, 1]\n",
    "})\n"
   ]
  },
  {
   "cell_type": "code",
   "execution_count": 69,
   "id": "4665bbd9-bbca-4f3f-a729-6524b3059514",
   "metadata": {},
   "outputs": [],
   "source": [
    "output[\"age_labels\"] = pd.cut(x = X_train['Age'],bins = trf.named_transformers_[\"first\"].bin_edges_[0].tolist())\n",
    "\n",
    "output[\"fare_labels\"] = pd.cut(x = X_train['Fare'],bins = trf.named_transformers_[\"second\"].bin_edges_[0].tolist())\n",
    "                                            "
   ]
  },
  {
   "cell_type": "code",
   "execution_count": 70,
   "id": "b1d658f8-be1b-475d-a9fd-6ad85cff9865",
   "metadata": {},
   "outputs": [
    {
     "data": {
      "text/html": [
       "<div>\n",
       "<style scoped>\n",
       "    .dataframe tbody tr th:only-of-type {\n",
       "        vertical-align: middle;\n",
       "    }\n",
       "\n",
       "    .dataframe tbody tr th {\n",
       "        vertical-align: top;\n",
       "    }\n",
       "\n",
       "    .dataframe thead th {\n",
       "        text-align: right;\n",
       "    }\n",
       "</style>\n",
       "<table border=\"1\" class=\"dataframe\">\n",
       "  <thead>\n",
       "    <tr style=\"text-align: right;\">\n",
       "      <th></th>\n",
       "      <th>age</th>\n",
       "      <th>age_trf</th>\n",
       "      <th>fare</th>\n",
       "      <th>fare_trf</th>\n",
       "      <th>age_labels</th>\n",
       "      <th>fare_labels</th>\n",
       "    </tr>\n",
       "  </thead>\n",
       "  <tbody>\n",
       "    <tr>\n",
       "      <th>387</th>\n",
       "      <td>57.0</td>\n",
       "      <td>14.0</td>\n",
       "      <td>13.0000</td>\n",
       "      <td>6.0</td>\n",
       "      <td>(48.6, 61.0]</td>\n",
       "      <td>(10.5, 13.62]</td>\n",
       "    </tr>\n",
       "    <tr>\n",
       "      <th>411</th>\n",
       "      <td>37.0</td>\n",
       "      <td>10.0</td>\n",
       "      <td>90.0000</td>\n",
       "      <td>13.0</td>\n",
       "      <td>(31.4, 39.0]</td>\n",
       "      <td>(61.0, 128.33]</td>\n",
       "    </tr>\n",
       "    <tr>\n",
       "      <th>119</th>\n",
       "      <td>29.0</td>\n",
       "      <td>7.0</td>\n",
       "      <td>26.0000</td>\n",
       "      <td>9.0</td>\n",
       "      <td>(28.0, 31.4]</td>\n",
       "      <td>(22.23, 27.75]</td>\n",
       "    </tr>\n",
       "    <tr>\n",
       "      <th>283</th>\n",
       "      <td>9.0</td>\n",
       "      <td>0.0</td>\n",
       "      <td>15.2458</td>\n",
       "      <td>7.0</td>\n",
       "      <td>(2.4, 12.8]</td>\n",
       "      <td>(13.62, 20.22]</td>\n",
       "    </tr>\n",
       "    <tr>\n",
       "      <th>32</th>\n",
       "      <td>33.0</td>\n",
       "      <td>9.0</td>\n",
       "      <td>20.5750</td>\n",
       "      <td>7.0</td>\n",
       "      <td>(31.4, 39.0]</td>\n",
       "      <td>(20.22, 22.23]</td>\n",
       "    </tr>\n",
       "  </tbody>\n",
       "</table>\n",
       "</div>"
      ],
      "text/plain": [
       "      age  age_trf     fare  fare_trf    age_labels     fare_labels\n",
       "387  57.0     14.0  13.0000       6.0  (48.6, 61.0]   (10.5, 13.62]\n",
       "411  37.0     10.0  90.0000      13.0  (31.4, 39.0]  (61.0, 128.33]\n",
       "119  29.0      7.0  26.0000       9.0  (28.0, 31.4]  (22.23, 27.75]\n",
       "283   9.0      0.0  15.2458       7.0   (2.4, 12.8]  (13.62, 20.22]\n",
       "32   33.0      9.0  20.5750       7.0  (31.4, 39.0]  (20.22, 22.23]"
      ]
     },
     "execution_count": 70,
     "metadata": {},
     "output_type": "execute_result"
    }
   ],
   "source": [
    "output.sample(5)"
   ]
  },
  {
   "cell_type": "code",
   "execution_count": 71,
   "id": "ae233a6b-ecf7-440f-bf02-c88941736e63",
   "metadata": {},
   "outputs": [
    {
     "name": "stdout",
     "output_type": "stream",
     "text": [
      "0.6119402985074627\n"
     ]
    }
   ],
   "source": [
    "clf = DecisionTreeClassifier()\n",
    "clf.fit(X_train_trf,Y_train)\n",
    "Y_pred2 = clf.predict(X_test_trf)\n",
    "\n",
    "accuracy = accuracy_score(Y_test, Y_pred2)\n",
    "\n",
    "print(accuracy)"
   ]
  },
  {
   "cell_type": "code",
   "execution_count": 72,
   "id": "54698bd0-5f8e-43f2-a63a-1ee556661697",
   "metadata": {},
   "outputs": [
    {
     "data": {
      "text/plain": [
       "0.5711229946524063"
      ]
     },
     "execution_count": 72,
     "metadata": {},
     "output_type": "execute_result"
    }
   ],
   "source": [
    "X_trf =trf.fit_transform(X)\n",
    "np.mean(cross_val_score(DecisionTreeClassifier(),X,Y, cv=10,scoring = \"accuracy\"))"
   ]
  },
  {
   "cell_type": "code",
   "execution_count": 73,
   "id": "d4efe40d-4819-4e38-85c9-6c91e6bded2e",
   "metadata": {},
   "outputs": [
    {
     "ename": "SyntaxError",
     "evalue": "invalid syntax. Perhaps you forgot a comma? (2131570670.py, line 13)",
     "output_type": "error",
     "traceback": [
      "\u001b[1;36m  Cell \u001b[1;32mIn[73], line 13\u001b[1;36m\u001b[0m\n\u001b[1;33m    plt.subplot(1 2 1)\u001b[0m\n\u001b[1;37m                ^\u001b[0m\n\u001b[1;31mSyntaxError\u001b[0m\u001b[1;31m:\u001b[0m invalid syntax. Perhaps you forgot a comma?\n"
     ]
    }
   ],
   "source": [
    "def discretize(bins,strategy):\n",
    "    kbin_age = KBinsDiscretizer(n_bins = bins, encode = \"ordinal\", strategy = \"quantile\")\n",
    "    kbin_fare = KBinsDiscretizer(n_bins = bins, encode = \"ordinal\", strategy = \"quantile\")\n",
    "\n",
    "    trf = ColumnTransformer([\n",
    "    (\"first\", kbin_age,[0]),\n",
    "    (\"second\", kbin_fare,[1]),\n",
    "    ])\n",
    "    X_trf =trf.fit_transform(X)\n",
    "    np.mean(cross_val_score(DecisionTreeClassifier(),X,Y, cv=10,scoring = \"accuracy\"))\n",
    "\n",
    "    plt.figure(figsize = (14,4))\n",
    "    plt.subplot(1 2 1)\n",
    "    plt.hist(X[\"Age\"])\n",
    "    plt.title(\"Before\")\n",
    "\n",
    "    \n",
    "    \n",
    "    plt.subplot(1 2 2)\n",
    "    plt.hist(X_trf[:,0],color = \"red\")\n",
    "    plt.title(\"After\")\n",
    "\n",
    "    plt.show()"
   ]
  },
  {
   "cell_type": "code",
   "execution_count": 74,
   "id": "e1c48089-fda7-40f2-8591-36bb97d0ecd7",
   "metadata": {},
   "outputs": [],
   "source": [
    "def discretize(bins, strategy, X, Y):\n",
    "    # Create discretizers for age and fare\n",
    "    kbin_age = KBinsDiscretizer(n_bins=bins, encode=\"ordinal\", strategy=strategy)\n",
    "    kbin_fare = KBinsDiscretizer(n_bins=bins, encode=\"ordinal\", strategy=strategy)\n",
    "\n",
    "    # Create a ColumnTransformer\n",
    "    trf = ColumnTransformer([\n",
    "        (\"first\", kbin_age, [0]),\n",
    "        (\"second\", kbin_fare, [1]),\n",
    "    ])\n",
    "\n",
    "    # Transform the data\n",
    "    X_trf = trf.fit_transform(X)\n",
    "\n",
    "    # Evaluate the model using cross-validation on transformed data\n",
    "    accuracy = np.mean(cross_val_score(DecisionTreeClassifier(), X_trf, Y, cv=10, scoring=\"accuracy\"))\n",
    "    print(f\"Mean Accuracy: {accuracy}\")\n",
    "\n",
    "    # Plot histograms to visualize the effect of discretization\n",
    "    plt.figure(figsize=(14, 4))\n",
    "    plt.subplot(1, 2, 1)\n",
    "    plt.hist(X.iloc[:, 0])  # Assuming \"Age\" is the first column\n",
    "    plt.title(\"Before\")\n",
    "\n",
    "    plt.subplot(1, 2, 2)\n",
    "    plt.hist(X_trf[:, 0], color=\"red\")\n",
    "    plt.title(\"After\")\n",
    "\n",
    "    plt.tight_layout()\n",
    "    plt.show()"
   ]
  },
  {
   "cell_type": "code",
   "execution_count": 75,
   "id": "bfa196fc-5d23-441d-81a4-634a3cd7db0d",
   "metadata": {},
   "outputs": [
    {
     "name": "stdout",
     "output_type": "stream",
     "text": [
      "Mean Accuracy: 0.5590909090909092\n"
     ]
    },
    {
     "data": {
      "image/png": "[encoded data removed]",
      "text/plain": [
       "<Figure size 1400x400 with 2 Axes>"
      ]
     },
     "metadata": {},
     "output_type": "display_data"
    }
   ],
   "source": [
    "discretize(10, \"quantile\", X, Y)"
   ]
  },
  {
   "cell_type": "code",
   "execution_count": null,
   "id": "e79807e6-2b55-479b-86c7-edbb5a2d46ba",
   "metadata": {},
   "outputs": [],
   "source": []
  }
 ],
 "metadata": {
  "kernelspec": {
   "display_name": "Python 3 (ipykernel)",
   "language": "python",
   "name": "python3"
  },
  "language_info": {
   "codemirror_mode": {
    "name": "ipython",
    "version": 3
   },
   "file_extension": ".py",
   "mimetype": "text/x-python",
   "name": "python",
   "nbconvert_exporter": "python",
   "pygments_lexer": "ipython3",
   "version": "3.12.4"
  }
 },
 "nbformat": 4,
 "nbformat_minor": 5
}
